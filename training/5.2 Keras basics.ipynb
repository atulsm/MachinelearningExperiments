{
 "cells": [
  {
   "cell_type": "code",
   "execution_count": 1,
   "metadata": {},
   "outputs": [],
   "source": [
    "from keras.models import Sequentialential"
   ]
  },
  {
   "cell_type": "code",
   "execution_count": 2,
   "metadata": {},
   "outputs": [],
   "source": [
    "from keras.layers import Dense"
   ]
  },
  {
   "cell_type": "code",
   "execution_count": 3,
   "metadata": {},
   "outputs": [],
   "source": [
    "model = Sequential()"
   ]
  },
  {
   "cell_type": "code",
   "execution_count": 4,
   "metadata": {},
   "outputs": [],
   "source": [
    "model.add(Dense(200,input_dim=3, activation='relu'))"
   ]
  },
  {
   "cell_type": "code",
   "execution_count": 6,
   "metadata": {},
   "outputs": [],
   "source": [
    "model.add(Dense(1, activation='linear'))"
   ]
  },
  {
   "cell_type": "code",
   "execution_count": 7,
   "metadata": {},
   "outputs": [],
   "source": [
    "model.compile(loss='mse',optimizer='sgd')"
   ]
  },
  {
   "cell_type": "code",
   "execution_count": 8,
   "metadata": {},
   "outputs": [
    {
     "name": "stdout",
     "output_type": "stream",
     "text": [
      "_________________________________________________________________\n",
      "Layer (type)                 Output Shape              Param #   \n",
      "=================================================================\n",
      "dense_1 (Dense)              (None, 200)               800       \n",
      "_________________________________________________________________\n",
      "dense_2 (Dense)              (None, 1)                 201       \n",
      "=================================================================\n",
      "Total params: 1,001\n",
      "Trainable params: 1,001\n",
      "Non-trainable params: 0\n",
      "_________________________________________________________________\n"
     ]
    }
   ],
   "source": [
    "model.summary()"
   ]
  },
  {
   "cell_type": "code",
   "execution_count": 9,
   "metadata": {},
   "outputs": [],
   "source": [
    "from sklearn.datasets import make_regression"
   ]
  },
  {
   "cell_type": "code",
   "execution_count": 10,
   "metadata": {},
   "outputs": [],
   "source": [
    "X,Y = make_regression(n_features=3, n_samples=10000)"
   ]
  },
  {
   "cell_type": "code",
   "execution_count": 11,
   "metadata": {},
   "outputs": [
    {
     "name": "stdout",
     "output_type": "stream",
     "text": [
      "Train on 8000 samples, validate on 2000 samples\n",
      "Epoch 1/20\n",
      " - 0s - loss: 264.9960 - val_loss: 0.0600\n",
      "Epoch 2/20\n",
      " - 0s - loss: 0.0490 - val_loss: 0.0288\n",
      "Epoch 3/20\n",
      " - 0s - loss: 0.0251 - val_loss: 0.0225\n",
      "Epoch 4/20\n",
      " - 0s - loss: 0.0156 - val_loss: 0.0120\n",
      "Epoch 5/20\n",
      " - 0s - loss: 0.0116 - val_loss: 0.0080\n",
      "Epoch 6/20\n",
      " - 0s - loss: 0.0099 - val_loss: 0.0059\n",
      "Epoch 7/20\n",
      " - 0s - loss: 0.0061 - val_loss: 0.0050\n",
      "Epoch 8/20\n",
      " - 0s - loss: 0.0050 - val_loss: 0.0041\n",
      "Epoch 9/20\n",
      " - 0s - loss: 0.0044 - val_loss: 0.0043\n",
      "Epoch 10/20\n",
      " - 0s - loss: 0.0038 - val_loss: 0.0041\n",
      "Epoch 11/20\n",
      " - 0s - loss: 0.0050 - val_loss: 0.0029\n",
      "Epoch 12/20\n",
      " - 0s - loss: 0.0031 - val_loss: 0.0027\n",
      "Epoch 13/20\n",
      " - 0s - loss: 0.0027 - val_loss: 0.0030\n",
      "Epoch 14/20\n",
      " - 0s - loss: 0.0028 - val_loss: 0.0023\n",
      "Epoch 15/20\n",
      " - 0s - loss: 0.0025 - val_loss: 0.0023\n",
      "Epoch 16/20\n",
      " - 0s - loss: 0.0023 - val_loss: 0.0030\n",
      "Epoch 17/20\n",
      " - 0s - loss: 0.0024 - val_loss: 0.0024\n",
      "Epoch 18/20\n",
      " - 0s - loss: 0.0022 - val_loss: 0.0019\n",
      "Epoch 19/20\n",
      " - 0s - loss: 0.0021 - val_loss: 0.0017\n",
      "Epoch 20/20\n",
      " - 0s - loss: 0.0017 - val_loss: 0.0019\n"
     ]
    },
    {
     "data": {
      "text/plain": [
       "<keras.callbacks.History at 0x23741eb1eb8>"
      ]
     },
     "execution_count": 11,
     "metadata": {},
     "output_type": "execute_result"
    }
   ],
   "source": [
    "model.fit(X,Y,batch_size=100, epochs=20, validation_split=0.2, verbose=2)"
   ]
  },
  {
   "cell_type": "code",
   "execution_count": 12,
   "metadata": {},
   "outputs": [
    {
     "data": {
      "text/plain": [
       "<keras.layers.core.Dense at 0x2373f1d8470>"
      ]
     },
     "execution_count": 12,
     "metadata": {},
     "output_type": "execute_result"
    }
   ],
   "source": [
    "model.layers[0]"
   ]
  },
  {
   "cell_type": "code",
   "execution_count": 13,
   "metadata": {},
   "outputs": [
    {
     "data": {
      "text/plain": [
       "[<tf.Variable 'dense_1/kernel:0' shape=(3, 200) dtype=float32_ref>,\n",
       " <tf.Variable 'dense_1/bias:0' shape=(200,) dtype=float32_ref>]"
      ]
     },
     "execution_count": 13,
     "metadata": {},
     "output_type": "execute_result"
    }
   ],
   "source": [
    "model.layers[0].weights"
   ]
  },
  {
   "cell_type": "code",
   "execution_count": null,
   "metadata": {},
   "outputs": [],
   "source": []
  }
 ],
 "metadata": {
  "kernelspec": {
   "display_name": "Python 3",
   "language": "python",
   "name": "python3"
  },
  "language_info": {
   "codemirror_mode": {
    "name": "ipython",
    "version": 3
   },
   "file_extension": ".py",
   "mimetype": "text/x-python",
   "name": "python",
   "nbconvert_exporter": "python",
   "pygments_lexer": "ipython3",
   "version": "3.6.4"
  }
 },
 "nbformat": 4,
 "nbformat_minor": 2
}
