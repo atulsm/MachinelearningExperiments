{
 "cells": [
  {
   "cell_type": "markdown",
   "metadata": {},
   "source": [
    "From https://github.com/zekelabs/machine-learning-for-beginners/wiki/NumPy-Problems\n",
    "\n",
    "    Create a null array of size 10 but the fifth value which is 1\n",
    "    Reverse a above created array (first element becomes last)\n",
    "    Create a 3x3 matrix with values ranging from 0 to 8\n",
    "    Find indices of non-zero elements from [1,2,0,0,4,0]\n",
    "    Create a 3x3x3 array with random values\n",
    "    Create a 10x10 array with random values and find the minimum and maximum values\n",
    "    Create a random vector of size 30 and find the mean value\n",
    "    Create a 2d array with 1 on the border and 0 inside\n",
    "    Consider a (6,7,8) shape array, what is the index (x,y,z) of the 100th element\n",
    "    Multiply a 5x3 matrix by a 3x2 matrix (real matrix product)\n",
    "    Extract the integer part of a random array\n",
    "    Create a 5x5 matrix with row values ranging from 0 to 4\n",
    "    Create a random vector of size 10 and sort it\n",
    "    Consider two random array A anb B, check if they are equal\n",
    "    How to tell if a given 2D array has null columns?\n",
    "    Considering a four dimensions array, how to get sum over the last two axis at once?\n",
    "    Consider an array of dimension (5,5,3), how to mulitply it by an array with dimensions (5,5)?\n",
    "    Extract all the contiguous 3x3 blocks from a random 10x10 matrix\n",
    "    How to compute averages using a sliding window over an array?\n",
    "    Consider a 16x16 array, how to get the block-sum (block size is 4x4)?\n"
   ]
  },
  {
   "cell_type": "code",
   "execution_count": 1,
   "metadata": {},
   "outputs": [],
   "source": [
    "import numpy as np"
   ]
  },
  {
   "cell_type": "code",
   "execution_count": 2,
   "metadata": {},
   "outputs": [],
   "source": [
    "#    Create a null array of size 10 but the fifth value which is 1\n",
    "a = np.array([0,0,0,0,1,0,0,0,0,0])"
   ]
  },
  {
   "cell_type": "code",
   "execution_count": 3,
   "metadata": {},
   "outputs": [
    {
     "data": {
      "text/plain": [
       "array([0, 0, 0, 0, 1, 0, 0, 0, 0, 0])"
      ]
     },
     "execution_count": 3,
     "metadata": {},
     "output_type": "execute_result"
    }
   ],
   "source": [
    "a"
   ]
  },
  {
   "cell_type": "code",
   "execution_count": 7,
   "metadata": {},
   "outputs": [
    {
     "data": {
      "text/plain": [
       "array([0, 0, 0, 0, 0, 1, 0, 0, 0, 0])"
      ]
     },
     "execution_count": 7,
     "metadata": {},
     "output_type": "execute_result"
    }
   ],
   "source": [
    "#    Reverse a above created array (first element becomes last)\n",
    "np.flipud(a)"
   ]
  },
  {
   "cell_type": "code",
   "execution_count": 8,
   "metadata": {},
   "outputs": [
    {
     "data": {
      "text/plain": [
       "array([0, 0, 0, 0, 0, 1, 0, 0, 0, 0])"
      ]
     },
     "execution_count": 8,
     "metadata": {},
     "output_type": "execute_result"
    }
   ],
   "source": [
    "a[::-1]"
   ]
  },
  {
   "cell_type": "code",
   "execution_count": 9,
   "metadata": {},
   "outputs": [],
   "source": [
    "#    Create a 3x3 matrix with values ranging from 0 to 8\n",
    "a = np.random.randint(0,8,(3,3))"
   ]
  },
  {
   "cell_type": "code",
   "execution_count": 10,
   "metadata": {},
   "outputs": [
    {
     "data": {
      "text/plain": [
       "array([[1, 5, 2],\n",
       "       [6, 1, 1],\n",
       "       [1, 5, 7]])"
      ]
     },
     "execution_count": 10,
     "metadata": {},
     "output_type": "execute_result"
    }
   ],
   "source": [
    "a"
   ]
  },
  {
   "cell_type": "code",
   "execution_count": 21,
   "metadata": {},
   "outputs": [
    {
     "data": {
      "text/plain": [
       "array([1, 2, 0, 0, 4, 0])"
      ]
     },
     "execution_count": 21,
     "metadata": {},
     "output_type": "execute_result"
    }
   ],
   "source": [
    "#    Find indices of non-zero elements from [1,2,0,0,4,0]\n",
    "tmp = np.array([1,2,0,0,4,0]);\n",
    "tmp"
   ]
  },
  {
   "cell_type": "code",
   "execution_count": 22,
   "metadata": {},
   "outputs": [
    {
     "name": "stdout",
     "output_type": "stream",
     "text": [
      "0\n",
      "1\n",
      "4\n"
     ]
    }
   ],
   "source": [
    "a = np.array(tmp) \n",
    "b = list(a)\n",
    "for val in b:\n",
    "    if val != 0:\n",
    "        print(b.index(val))"
   ]
  },
  {
   "cell_type": "code",
   "execution_count": 23,
   "metadata": {},
   "outputs": [
    {
     "data": {
      "text/plain": [
       "array([[[7, 0, 3],\n",
       "        [0, 0, 3],\n",
       "        [0, 6, 4]],\n",
       "\n",
       "       [[4, 1, 1],\n",
       "        [6, 2, 6],\n",
       "        [0, 6, 2]],\n",
       "\n",
       "       [[1, 0, 1],\n",
       "        [6, 7, 1],\n",
       "        [1, 1, 6]]])"
      ]
     },
     "execution_count": 23,
     "metadata": {},
     "output_type": "execute_result"
    }
   ],
   "source": [
    "#    Create a 3x3x3 array with random values\n",
    "np.random.randint(0,8,(3,3,3))"
   ]
  },
  {
   "cell_type": "code",
   "execution_count": 28,
   "metadata": {},
   "outputs": [
    {
     "name": "stdout",
     "output_type": "stream",
     "text": [
      "[[5 7 4 6 1 4 6 7 3 3]\n",
      " [2 3 3 5 3 1 4 0 7 3]\n",
      " [7 6 0 2 3 2 7 2 3 0]\n",
      " [6 6 6 5 7 0 0 4 7 0]\n",
      " [4 2 1 4 6 0 2 1 6 2]\n",
      " [0 4 5 2 6 2 5 7 7 6]\n",
      " [3 3 3 5 1 2 1 3 3 4]\n",
      " [0 2 5 7 0 3 3 3 1 7]\n",
      " [3 7 3 2 3 4 2 7 3 1]\n",
      " [6 7 7 5 3 7 1 6 3 3]]\n"
     ]
    },
    {
     "data": {
      "text/plain": [
       "7"
      ]
     },
     "execution_count": 28,
     "metadata": {},
     "output_type": "execute_result"
    }
   ],
   "source": [
    "#    Create a 10x10 array with random values and find the minimum and maximum values\n",
    "a = np.random.randint(0,8,(10,10)) \n",
    "print(a)\n",
    "a.min()\n",
    "a.max()"
   ]
  },
  {
   "cell_type": "code",
   "execution_count": 29,
   "metadata": {},
   "outputs": [
    {
     "data": {
      "text/plain": [
       "3.466666666666667"
      ]
     },
     "execution_count": 29,
     "metadata": {},
     "output_type": "execute_result"
    }
   ],
   "source": [
    "#    Create a random vector of size 30 and find the mean value\n",
    "a = np.random.randint(0,8,(30)) \n",
    "a.mean()"
   ]
  },
  {
   "cell_type": "code",
   "execution_count": 32,
   "metadata": {},
   "outputs": [
    {
     "data": {
      "text/plain": [
       "array([[1., 1., 1., 1.],\n",
       "       [1., 0., 0., 1.],\n",
       "       [1., 0., 0., 1.],\n",
       "       [1., 1., 1., 1.]])"
      ]
     },
     "execution_count": 32,
     "metadata": {},
     "output_type": "execute_result"
    }
   ],
   "source": [
    "#    Create a 2d array with 1 on the border and 0 inside\n",
    "a = np.ones((4,4))\n",
    "a[1:-1,1:-1]=0\n",
    "a"
   ]
  },
  {
   "cell_type": "code",
   "execution_count": 34,
   "metadata": {},
   "outputs": [],
   "source": [
    "#    Consider a (6,7,8) shape array, what is the index (x,y,z) of the 100th element\n",
    "a = np.random.randint(0,10,(6,7,8))"
   ]
  },
  {
   "cell_type": "code",
   "execution_count": 39,
   "metadata": {},
   "outputs": [],
   "source": [
    "## Dont know"
   ]
  },
  {
   "cell_type": "code",
   "execution_count": 42,
   "metadata": {},
   "outputs": [
    {
     "data": {
      "text/plain": [
       "array([[15,  5],\n",
       "       [21,  5],\n",
       "       [11,  4],\n",
       "       [14,  3],\n",
       "       [16,  4]])"
      ]
     },
     "execution_count": 42,
     "metadata": {},
     "output_type": "execute_result"
    }
   ],
   "source": [
    "#    Multiply a 5x3 matrix by a 3x2 matrix (real matrix product)\n",
    "a = np.random.randint(0,5,(5,3)) \n",
    "b = np.random.randint(0,5,(3,2)) \n",
    "np.matmul(a,b)\n"
   ]
  },
  {
   "cell_type": "code",
   "execution_count": 43,
   "metadata": {},
   "outputs": [],
   "source": [
    "#    Extract the integer part of a random array\n",
    "#dont know"
   ]
  },
  {
   "cell_type": "code",
   "execution_count": 46,
   "metadata": {},
   "outputs": [
    {
     "data": {
      "text/plain": [
       "array([[1, 0, 4, 1, 0],\n",
       "       [0, 3, 2, 1, 0],\n",
       "       [0, 4, 3, 2, 1],\n",
       "       [2, 3, 1, 2, 3],\n",
       "       [2, 2, 4, 0, 4]])"
      ]
     },
     "execution_count": 46,
     "metadata": {},
     "output_type": "execute_result"
    }
   ],
   "source": [
    "#    Create a 5x5 matrix with row values ranging from 0 to 4\n",
    "a = np.random.randint(0,5,(5,5))\n",
    "a"
   ]
  },
  {
   "cell_type": "code",
   "execution_count": 50,
   "metadata": {},
   "outputs": [
    {
     "data": {
      "text/plain": [
       "array([0, 0, 0, 0, 1, 1, 2, 3, 3, 4])"
      ]
     },
     "execution_count": 50,
     "metadata": {},
     "output_type": "execute_result"
    }
   ],
   "source": [
    "#    Create a random vector of size 10 and sort it\n",
    "a = np.random.randint(0,5,(10))\n",
    "a.sort()\n",
    "a"
   ]
  },
  {
   "cell_type": "code",
   "execution_count": 54,
   "metadata": {},
   "outputs": [
    {
     "name": "stdout",
     "output_type": "stream",
     "text": [
      "[4 2 2 0 3 2 3 1 0 4]\n",
      "[3 0 3 0 4 0 1 2 2 3]\n",
      "[False False False  True False False False False False False]\n"
     ]
    },
    {
     "data": {
      "text/plain": [
       "False"
      ]
     },
     "execution_count": 54,
     "metadata": {},
     "output_type": "execute_result"
    }
   ],
   "source": [
    "#    Consider two random array A anb B, check if they are equal\n",
    "a = np.random.randint(0,5,(10))\n",
    "b = np.random.randint(0,5,(10))\n",
    "print(a)\n",
    "print(b)\n",
    "print(a == b)\n",
    "np.array_equal(a,b)"
   ]
  },
  {
   "cell_type": "code",
   "execution_count": 56,
   "metadata": {},
   "outputs": [
    {
     "data": {
      "text/plain": [
       "False"
      ]
     },
     "execution_count": 56,
     "metadata": {},
     "output_type": "execute_result"
    }
   ],
   "source": [
    "#    How to tell if a given 2D array has null columns?\n",
    "a = np.random.randint(0,5,(4,4))\n",
    "np.isnan(a).any()\n"
   ]
  },
  {
   "cell_type": "code",
   "execution_count": 57,
   "metadata": {},
   "outputs": [],
   "source": [
    "#    Considering a four dimensions array, how to get sum over the last two axis at once?\n",
    "a = np.random.randint(0,5,(4,4,4,4))\n",
    "#dont know"
   ]
  },
  {
   "cell_type": "code",
   "execution_count": 58,
   "metadata": {},
   "outputs": [
    {
     "ename": "SyntaxError",
     "evalue": "invalid syntax (<ipython-input-58-4f491fd45cb0>, line 2)",
     "output_type": "error",
     "traceback": [
      "\u001b[1;36m  File \u001b[1;32m\"<ipython-input-58-4f491fd45cb0>\"\u001b[1;36m, line \u001b[1;32m2\u001b[0m\n\u001b[1;33m    Consider an array of dimension (5,5,3), how to mulitply it by an array with dimensions (5,5)?\u001b[0m\n\u001b[1;37m              ^\u001b[0m\n\u001b[1;31mSyntaxError\u001b[0m\u001b[1;31m:\u001b[0m invalid syntax\n"
     ]
    }
   ],
   "source": [
    "#TODO\n",
    "Consider an array of dimension (5,5,3), how to mulitply it by an array with dimensions (5,5)?\n",
    "    Extract all the contiguous 3x3 blocks from a random 10x10 matrix\n",
    "    How to compute averages using a sliding window over an array?\n",
    "    Consider a 16x16 array, how to get the block-sum (block size is 4x4)?"
   ]
  },
  {
   "cell_type": "code",
   "execution_count": 63,
   "metadata": {},
   "outputs": [
    {
     "ename": "ValueError",
     "evalue": "operands could not be broadcast together with shapes (5,5) (5,5,3) ",
     "output_type": "error",
     "traceback": [
      "\u001b[1;31m---------------------------------------------------------------------------\u001b[0m",
      "\u001b[1;31mValueError\u001b[0m                                Traceback (most recent call last)",
      "\u001b[1;32m<ipython-input-63-fb36247db921>\u001b[0m in \u001b[0;36m<module>\u001b[1;34m()\u001b[0m\n\u001b[0;32m      2\u001b[0m \u001b[0ma\u001b[0m \u001b[1;33m=\u001b[0m \u001b[0mnp\u001b[0m\u001b[1;33m.\u001b[0m\u001b[0mrandom\u001b[0m\u001b[1;33m.\u001b[0m\u001b[0mrandint\u001b[0m\u001b[1;33m(\u001b[0m\u001b[1;36m0\u001b[0m\u001b[1;33m,\u001b[0m\u001b[1;36m5\u001b[0m\u001b[1;33m,\u001b[0m\u001b[1;33m(\u001b[0m\u001b[1;36m5\u001b[0m\u001b[1;33m,\u001b[0m\u001b[1;36m5\u001b[0m\u001b[1;33m,\u001b[0m\u001b[1;36m3\u001b[0m\u001b[1;33m)\u001b[0m\u001b[1;33m)\u001b[0m\u001b[1;33m\u001b[0m\u001b[0m\n\u001b[0;32m      3\u001b[0m \u001b[0mb\u001b[0m \u001b[1;33m=\u001b[0m \u001b[0mnp\u001b[0m\u001b[1;33m.\u001b[0m\u001b[0mrandom\u001b[0m\u001b[1;33m.\u001b[0m\u001b[0mrandint\u001b[0m\u001b[1;33m(\u001b[0m\u001b[1;36m0\u001b[0m\u001b[1;33m,\u001b[0m\u001b[1;36m5\u001b[0m\u001b[1;33m,\u001b[0m\u001b[1;33m(\u001b[0m\u001b[1;36m5\u001b[0m\u001b[1;33m,\u001b[0m\u001b[1;36m5\u001b[0m\u001b[1;33m)\u001b[0m\u001b[1;33m)\u001b[0m\u001b[1;33m\u001b[0m\u001b[0m\n\u001b[1;32m----> 4\u001b[1;33m \u001b[0mb\u001b[0m\u001b[1;33m*\u001b[0m\u001b[0ma\u001b[0m\u001b[1;33m\u001b[0m\u001b[0m\n\u001b[0m",
      "\u001b[1;31mValueError\u001b[0m: operands could not be broadcast together with shapes (5,5) (5,5,3) "
     ]
    }
   ],
   "source": [
    "#Consider an array of dimension (5,5,3), how to mulitply it by an array with dimensions (5,5)?\n",
    "a = np.random.randint(0,5,(5,5,3))\n",
    "b = np.random.randint(0,5,(5,5))\n",
    "b*a\n",
    "#dont know"
   ]
  },
  {
   "cell_type": "code",
   "execution_count": null,
   "metadata": {},
   "outputs": [],
   "source": []
  }
 ],
 "metadata": {
  "kernelspec": {
   "display_name": "Python 3",
   "language": "python",
   "name": "python3"
  },
  "language_info": {
   "codemirror_mode": {
    "name": "ipython",
    "version": 3
   },
   "file_extension": ".py",
   "mimetype": "text/x-python",
   "name": "python",
   "nbconvert_exporter": "python",
   "pygments_lexer": "ipython3",
   "version": "3.6.4"
  }
 },
 "nbformat": 4,
 "nbformat_minor": 2
}
